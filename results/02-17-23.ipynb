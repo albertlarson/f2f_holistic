{
 "cells": [
  {
   "cell_type": "code",
   "execution_count": 1,
   "metadata": {},
   "outputs": [
    {
     "name": "stdout",
     "output_type": "stream",
     "text": [
      "2023-02-17 10:02:52\n"
     ]
    }
   ],
   "source": [
    "#get current utc time, and then convert to eastern time zone\n",
    "\n",
    "from datetime import datetime\n",
    "import pytz\n",
    "\n",
    "utc = pytz.utc\n",
    "eastern = pytz.timezone('US/Eastern')\n",
    "\n",
    "utc_dt = datetime.now(utc)\n",
    "eastern_dt = utc_dt.astimezone(eastern)\n",
    "\n",
    "print(eastern_dt.strftime('%Y-%m-%d %H:%M:%S'))"
   ]
  },
  {
   "cell_type": "code",
   "execution_count": 2,
   "metadata": {},
   "outputs": [
    {
     "name": "stdout",
     "output_type": "stream",
     "text": [
      "2023-02-17 10:03:06\n"
     ]
    }
   ],
   "source": [
    "#get time again\n",
    "\n",
    "utc_dt = datetime.now(utc)\n",
    "eastern_dt = utc_dt.astimezone(eastern)\n",
    "\n",
    "print(eastern_dt.strftime('%Y-%m-%d %H:%M:%S'))"
   ]
  },
  {
   "cell_type": "code",
   "execution_count": null,
   "metadata": {},
   "outputs": [],
   "source": [
    "subtract the two times\n",
    "\n",
    "import datetime\n",
    "\n",
    "time1 = datetime.datetime(2019, 2, 17, 23, 0, 0)\n",
    "time2 = datetime.datetime(2019, 2, 17, 23, 0, 0)\n"
   ]
  }
 ],
 "metadata": {
  "kernelspec": {
   "display_name": "Python 3",
   "language": "python",
   "name": "python3"
  },
  "language_info": {
   "codemirror_mode": {
    "name": "ipython",
    "version": 3
   },
   "file_extension": ".py",
   "mimetype": "text/x-python",
   "name": "python",
   "nbconvert_exporter": "python",
   "pygments_lexer": "ipython3",
   "version": "3.10.9"
  },
  "orig_nbformat": 4,
  "vscode": {
   "interpreter": {
    "hash": "b0fa6594d8f4cbf19f97940f81e996739fb7646882a419484c72d19e05852a7e"
   }
  }
 },
 "nbformat": 4,
 "nbformat_minor": 2
}
