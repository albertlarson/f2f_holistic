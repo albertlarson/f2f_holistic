{
 "cells": [
  {
   "cell_type": "code",
   "execution_count": 1,
   "id": "23bfd998-1c76-4683-8aad-2ef840d06339",
   "metadata": {},
   "outputs": [],
   "source": [
    "import geopandas as gp"
   ]
  },
  {
   "cell_type": "code",
   "execution_count": 4,
   "id": "2928d1ce-3084-4ed6-a476-80073281871d",
   "metadata": {},
   "outputs": [
    {
     "data": {
      "text/html": [
       "<div>\n",
       "<style scoped>\n",
       "    .dataframe tbody tr th:only-of-type {\n",
       "        vertical-align: middle;\n",
       "    }\n",
       "\n",
       "    .dataframe tbody tr th {\n",
       "        vertical-align: top;\n",
       "    }\n",
       "\n",
       "    .dataframe thead th {\n",
       "        text-align: right;\n",
       "    }\n",
       "</style>\n",
       "<table border=\"1\" class=\"dataframe\">\n",
       "  <thead>\n",
       "    <tr style=\"text-align: right;\">\n",
       "      <th></th>\n",
       "      <th>Name</th>\n",
       "      <th>FolderPath</th>\n",
       "      <th>SymbolID</th>\n",
       "      <th>AltMode</th>\n",
       "      <th>Base</th>\n",
       "      <th>Clamped</th>\n",
       "      <th>Extruded</th>\n",
       "      <th>Snippet</th>\n",
       "      <th>PopupInfo</th>\n",
       "      <th>Shape_Leng</th>\n",
       "      <th>Shape_Area</th>\n",
       "      <th>geometry</th>\n",
       "    </tr>\n",
       "  </thead>\n",
       "  <tbody>\n",
       "    <tr>\n",
       "      <th>0</th>\n",
       "      <td>3331</td>\n",
       "      <td>Lindsey's Places_NWBLCC.kmz/Lindsey's Places/1...</td>\n",
       "      <td>4</td>\n",
       "      <td>0</td>\n",
       "      <td>0.0</td>\n",
       "      <td>-1</td>\n",
       "      <td>0</td>\n",
       "      <td>None</td>\n",
       "      <td>Yukon River Watershed</td>\n",
       "      <td>0.0</td>\n",
       "      <td>184.543521</td>\n",
       "      <td>POLYGON Z ((-156.21912 67.86716 0.00000, -155....</td>\n",
       "    </tr>\n",
       "  </tbody>\n",
       "</table>\n",
       "</div>"
      ],
      "text/plain": [
       "   Name                                         FolderPath  SymbolID  AltMode  \\\n",
       "0  3331  Lindsey's Places_NWBLCC.kmz/Lindsey's Places/1...         4        0   \n",
       "\n",
       "   Base  Clamped  Extruded Snippet              PopupInfo  Shape_Leng  \\\n",
       "0   0.0       -1         0    None  Yukon River Watershed         0.0   \n",
       "\n",
       "   Shape_Area                                           geometry  \n",
       "0  184.543521  POLYGON Z ((-156.21912 67.86716 0.00000, -155....  "
      ]
     },
     "execution_count": 4,
     "metadata": {},
     "output_type": "execute_result"
    }
   ],
   "source": [
    "x = gp.read_file('../data/shapes/yukon/3331.shp')\n"
   ]
  },
  {
   "cell_type": "code",
   "execution_count": 10,
   "id": "e913533c-e040-4000-9f44-60fa5271bb45",
   "metadata": {},
   "outputs": [
    {
     "name": "stdout",
     "output_type": "stream",
     "text": [
      "         minx       miny        maxx       maxy\n",
      "0 -166.213152  59.374509 -130.529309  69.096368\n",
      "0    Polygon\n",
      "dtype: object\n",
      "GEOGCS[\"WGS 84\",DATUM[\"WGS_1984\",SPHEROID[\"WGS 84\",6378137,298.257223563,AUTHORITY[\"EPSG\",\"7030\"]],AUTHORITY[\"EPSG\",\"6326\"]],PRIMEM[\"Greenwich\",0],UNIT[\"Degree\",0.0174532925199433],AXIS[\"Longitude\",EAST],AXIS[\"Latitude\",NORTH]]\n"
     ]
    }
   ],
   "source": [
    "print(x.bounds)\n",
    "print(x.geom_type)\n",
    "print(x.crs)"
   ]
  },
  {
   "cell_type": "code",
   "execution_count": null,
   "id": "95353623-b5eb-4f3c-803a-ae81f8542cdd",
   "metadata": {},
   "outputs": [],
   "source": []
  }
 ],
 "metadata": {
  "kernelspec": {
   "display_name": "Python (.conda-f2f_2)",
   "language": "python",
   "name": "conda-env-.conda-f2f_2-py"
  },
  "language_info": {
   "codemirror_mode": {
    "name": "ipython",
    "version": 3
   },
   "file_extension": ".py",
   "mimetype": "text/x-python",
   "name": "python",
   "nbconvert_exporter": "python",
   "pygments_lexer": "ipython3",
   "version": "3.10.4"
  }
 },
 "nbformat": 4,
 "nbformat_minor": 5
}
