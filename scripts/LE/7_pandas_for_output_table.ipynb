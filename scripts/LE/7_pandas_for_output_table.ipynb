{
 "cells": [
  {
   "cell_type": "code",
   "execution_count": 34,
   "id": "9f75c420-1eb4-44c3-9b3f-f1ea3f583c11",
   "metadata": {},
   "outputs": [],
   "source": [
    "import pandas as pd\n",
    "import numpy as np\n",
    "import itertools as it\n"
   ]
  },
  {
   "cell_type": "code",
   "execution_count": 12,
   "id": "42aad1a5-d3dd-466d-8a95-03c8a93929ba",
   "metadata": {},
   "outputs": [],
   "source": [
    "x = np.random.randint(0,20,(2,1))\n",
    "x"
   ]
  },
  {
   "cell_type": "code",
   "execution_count": 50,
   "id": "31d12067-a027-46d1-9471-86c31934e9d7",
   "metadata": {},
   "outputs": [],
   "source": [
    "lr = [1e-4]\n",
    "sst = [True,False]\n",
    "basin = ['Columbia','Yukon']\n",
    "tts = [70,80,90,95]\n",
    "nn = ['ann2','ann3','ann1000','dcrrnn']\n",
    "lag = [0,1,3,6,12,24]\n",
    "shuffled = [True,False]\n",
    "zscore = ['xonly','yonly','both','neither']\n",
    "epochs = 100"
   ]
  },
  {
   "cell_type": "code",
   "execution_count": 51,
   "id": "f9f87317-994c-40f3-bcc9-ce3843bb117d",
   "metadata": {},
   "outputs": [
    {
     "data": {
      "text/plain": [
       "(3072, 8)"
      ]
     },
     "execution_count": 51,
     "metadata": {},
     "output_type": "execute_result"
    }
   ],
   "source": [
    "configs = []\n",
    "for x in it.product(lr,sst,basin,tts,nn,lag,shuffled,zscore):\n",
    "    configs.append(x)\n",
    "configs = np.asarray(configs)\n",
    "configs.shape"
   ]
  },
  {
   "cell_type": "code",
   "execution_count": 52,
   "id": "247cd90a-0d9b-4452-8d95-074c9aa41124",
   "metadata": {},
   "outputs": [
    {
     "data": {
      "text/plain": [
       "4.266666666666667"
      ]
     },
     "execution_count": 52,
     "metadata": {},
     "output_type": "execute_result"
    }
   ],
   "source": [
    "configs.shape[0] * 2 / 60/ 24\n",
    "#9216 configs\n",
    "#2 minutes per config\n",
    "#60 minutes in an hr\n",
    "#24 hrs in a day\n",
    "### gives number of days to run"
   ]
  },
  {
   "cell_type": "code",
   "execution_count": 37,
   "id": "0b7fc47d-29f7-4253-a26d-4dc863af76d4",
   "metadata": {},
   "outputs": [
    {
     "data": {
      "text/plain": [
       "array(['0.001', 'True', 'Columbia', '50', 'ann2', '0', 'True', 'xonly'],\n",
       "      dtype='<U32')"
      ]
     },
     "execution_count": 37,
     "metadata": {},
     "output_type": "execute_result"
    }
   ],
   "source": [
    "configs[0]"
   ]
  },
  {
   "cell_type": "code",
   "execution_count": null,
   "id": "9755a3bf-2880-442c-96db-926b9966018e",
   "metadata": {},
   "outputs": [
    {
     "ename": "NameError",
     "evalue": "name 'lr' is not defined",
     "output_type": "error",
     "traceback": [
      "\u001b[0;31m---------------------------------------------------------------------------\u001b[0m",
      "\u001b[0;31mNameError\u001b[0m                                 Traceback (most recent call last)",
      "Input \u001b[0;32mIn [25]\u001b[0m, in \u001b[0;36m<cell line: 2>\u001b[0;34m()\u001b[0m\n\u001b[1;32m      1\u001b[0m x \u001b[38;5;241m=\u001b[39m {\n\u001b[0;32m----> 2\u001b[0m     \u001b[43mlr\u001b[49m\u001b[38;5;241m==\u001b[39m[\u001b[38;5;241m1e-3\u001b[39m,\u001b[38;5;241m1e-4\u001b[39m,\u001b[38;5;241m1e-5\u001b[39m],\n\u001b[1;32m      3\u001b[0m     sst\u001b[38;5;241m==\u001b[39m[\u001b[38;5;28;01mTrue\u001b[39;00m,\u001b[38;5;28;01mFalse\u001b[39;00m],\n\u001b[1;32m      4\u001b[0m     basin\u001b[38;5;241m==\u001b[39m[\u001b[38;5;124m'\u001b[39m\u001b[38;5;124mColumbia\u001b[39m\u001b[38;5;124m'\u001b[39m,\u001b[38;5;124m'\u001b[39m\u001b[38;5;124mYukon\u001b[39m\u001b[38;5;124m'\u001b[39m],\n\u001b[1;32m      5\u001b[0m     tts\u001b[38;5;241m==\u001b[39m[\u001b[38;5;241m50\u001b[39m,\u001b[38;5;241m60\u001b[39m,\u001b[38;5;241m70\u001b[39m,\u001b[38;5;241m80\u001b[39m,\u001b[38;5;241m90\u001b[39m,\u001b[38;5;241m95\u001b[39m],\n\u001b[1;32m      6\u001b[0m     ann\u001b[38;5;241m==\u001b[39m[ann2,ann3,ann1000,\u001b[38;5;124m'\u001b[39m\u001b[38;5;124mdcrrnn\u001b[39m\u001b[38;5;124m'\u001b[39m],\n\u001b[1;32m      7\u001b[0m     lag\u001b[38;5;241m==\u001b[39m[\u001b[38;5;241m0\u001b[39m,\u001b[38;5;241m1\u001b[39m,\u001b[38;5;241m4\u001b[39m,\u001b[38;5;241m8\u001b[39m,\u001b[38;5;241m12\u001b[39m,\u001b[38;5;241m24\u001b[39m],\n\u001b[1;32m      8\u001b[0m     shuffled\u001b[38;5;241m==\u001b[39m[\u001b[38;5;28;01mTrue\u001b[39;00m,\u001b[38;5;28;01mFalse\u001b[39;00m]\n\u001b[1;32m      9\u001b[0m }\n",
      "\u001b[0;31mNameError\u001b[0m: name 'lr' is not defined"
     ]
    }
   ],
   "source": [
    "nse = \n",
    "inside2sig = \n",
    "traintime = "
   ]
  },
  {
   "cell_type": "code",
   "execution_count": 16,
   "id": "7f6c86a1-8860-45b7-aa17-86d85ab7a747",
   "metadata": {},
   "outputs": [
    {
     "data": {
      "text/html": [
       "<div>\n",
       "<style scoped>\n",
       "    .dataframe tbody tr th:only-of-type {\n",
       "        vertical-align: middle;\n",
       "    }\n",
       "\n",
       "    .dataframe tbody tr th {\n",
       "        vertical-align: top;\n",
       "    }\n",
       "\n",
       "    .dataframe thead th {\n",
       "        text-align: right;\n",
       "    }\n",
       "</style>\n",
       "<table border=\"1\" class=\"dataframe\">\n",
       "  <thead>\n",
       "    <tr style=\"text-align: right;\">\n",
       "      <th></th>\n",
       "      <th>hey</th>\n",
       "    </tr>\n",
       "  </thead>\n",
       "  <tbody>\n",
       "    <tr>\n",
       "      <th>0</th>\n",
       "      <td>5</td>\n",
       "    </tr>\n",
       "    <tr>\n",
       "      <th>1</th>\n",
       "      <td>9</td>\n",
       "    </tr>\n",
       "  </tbody>\n",
       "</table>\n",
       "</div>"
      ],
      "text/plain": [
       "   hey\n",
       "0    5\n",
       "1    9"
      ]
     },
     "execution_count": 16,
     "metadata": {},
     "output_type": "execute_result"
    }
   ],
   "source": [
    "y = pd.DataFrame(data=x,columns=['hey'])\n",
    "y"
   ]
  },
  {
   "cell_type": "code",
   "execution_count": 7,
   "id": "8cb290e8-3799-4f47-aafe-159e3e2c4a9a",
   "metadata": {},
   "outputs": [],
   "source": [
    "x.hey = 1"
   ]
  },
  {
   "cell_type": "code",
   "execution_count": 8,
   "id": "aa3cf20b-d5bb-4ec2-bd4e-3139b74a7a7c",
   "metadata": {},
   "outputs": [
    {
     "data": {
      "text/html": [
       "<div>\n",
       "<style scoped>\n",
       "    .dataframe tbody tr th:only-of-type {\n",
       "        vertical-align: middle;\n",
       "    }\n",
       "\n",
       "    .dataframe tbody tr th {\n",
       "        vertical-align: top;\n",
       "    }\n",
       "\n",
       "    .dataframe thead th {\n",
       "        text-align: right;\n",
       "    }\n",
       "</style>\n",
       "<table border=\"1\" class=\"dataframe\">\n",
       "  <thead>\n",
       "    <tr style=\"text-align: right;\">\n",
       "      <th></th>\n",
       "      <th>hey</th>\n",
       "    </tr>\n",
       "  </thead>\n",
       "  <tbody>\n",
       "  </tbody>\n",
       "</table>\n",
       "</div>"
      ],
      "text/plain": [
       "Empty DataFrame\n",
       "Columns: [hey]\n",
       "Index: []"
      ]
     },
     "execution_count": 8,
     "metadata": {},
     "output_type": "execute_result"
    }
   ],
   "source": [
    "x"
   ]
  },
  {
   "cell_type": "code",
   "execution_count": null,
   "id": "18a84999-58c0-4d9d-ab28-6944c6373d80",
   "metadata": {},
   "outputs": [],
   "source": []
  }
 ],
 "metadata": {
  "kernelspec": {
   "display_name": "Python (.conda-f2f_2)",
   "language": "python",
   "name": "conda-env-.conda-f2f_2-py"
  },
  "language_info": {
   "codemirror_mode": {
    "name": "ipython",
    "version": 3
   },
   "file_extension": ".py",
   "mimetype": "text/x-python",
   "name": "python",
   "nbconvert_exporter": "python",
   "pygments_lexer": "ipython3",
   "version": "3.10.4"
  }
 },
 "nbformat": 4,
 "nbformat_minor": 5
}
