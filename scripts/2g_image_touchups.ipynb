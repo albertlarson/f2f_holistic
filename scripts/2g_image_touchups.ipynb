{
 "cells": [
  {
   "cell_type": "code",
   "execution_count": 27,
   "id": "8802f8c1-e399-4ae8-9f04-2fb4c45add90",
   "metadata": {},
   "outputs": [],
   "source": [
    "# pip install jupyter ipywidgets"
   ]
  },
  {
   "cell_type": "code",
   "execution_count": 28,
   "id": "4b8ac238-309c-4eb2-86a5-51b5a7ad6b6a",
   "metadata": {},
   "outputs": [],
   "source": [
    "import numpy as np\n",
    "import glob\n",
    "import xarray as xr\n",
    "import torch\n",
    "import matplotlib.pyplot as plt"
   ]
  },
  {
   "cell_type": "code",
   "execution_count": 64,
   "id": "871bf895-0b93-45b7-9665-1b424b6b8a1d",
   "metadata": {},
   "outputs": [
    {
     "name": "stdout",
     "output_type": "stream",
     "text": [
      "../data/MOGL/MOGL_COL/200207_COL_MOGL.npy ../data/MOGL/MOGL_COL/202210_COL_MOGL.npy ../data/MOGL/MOGL_COL/201912_COL_MOGL.npy\n",
      "../data/MOGL/MOGL_YUK/200207_YUK_MOGL.npy ../data/MOGL/MOGL_YUK/202210_YUK_MOGL.npy ../data/MOGL/MOGL_YUK/201912_YUK_MOGL.npy\n",
      "../data/GLDAS/clipped/columbia/200001_clipped.nc ../data/GLDAS/clipped/columbia/202210_clipped.nc ../data/GLDAS/clipped/columbia/200207_clipped.nc ../data/GLDAS/clipped/columbia/201912_clipped.nc\n",
      "../data/GLDAS/clipped/yukon/200001_clipped.nc ../data/GLDAS/clipped/yukon/202210_clipped.nc ../data/GLDAS/clipped/columbia/200207_clipped.nc ../data/GLDAS/clipped/yukon/201912_clipped.nc\n"
     ]
    }
   ],
   "source": [
    "x0 = glob.glob('../data/MOGL/MOGL_COL/*.npy')\n",
    "print(x0[0],x0[-1],x0[209])\n",
    "\n",
    "x1 = glob.glob('../data/MOGL/MOGL_YUK/*.npy')\n",
    "print(x1[0],x1[-1],x1[209])\n",
    "\n",
    "x2 = glob.glob('../data/GLDAS/clipped/columbia/*.nc')\n",
    "print(x2[0],x2[-1],x2[30],x2[239])\n",
    "\n",
    "x3 = glob.glob('../data/GLDAS/clipped/yukon/*.nc')\n",
    "print(x3[0],x3[-1],x2[30],x3[239])"
   ]
  },
  {
   "cell_type": "code",
   "execution_count": 50,
   "id": "212e35b6-04dd-4d45-947c-3cfc4636e389",
   "metadata": {},
   "outputs": [],
   "source": [
    "'''\n",
    "x0 and x1 are right side up.\n",
    "x2 and x3 are not.\n",
    "all in time range will be placed into pytorch tensor\n",
    "\n",
    "'''\n",
    "\n",
    "y1 = xr.open_dataset(x3[0])\n",
    "y1 = np.flip(np.concatenate((y1.Qs_acc,y1.Qsb_acc)),axis=1)\n",
    "\n",
    "# plt.figure()\n",
    "# plt.imshow(y1[1])"
   ]
  },
  {
   "cell_type": "code",
   "execution_count": 87,
   "id": "8f8f906f-bb2a-439e-92e0-d4ffe4d061ba",
   "metadata": {},
   "outputs": [
    {
     "name": "stdout",
     "output_type": "stream",
     "text": [
      "../data/MOGL/MOGL_COL/200207_COL_MOGL.npy\n",
      "../data/MOGL/MOGL_COL/201912_COL_MOGL.npy\n",
      "torch.Size([210, 1, 200, 600]) \n",
      "\n",
      "../data/MOGL/MOGL_YUK/200207_YUK_MOGL.npy\n",
      "../data/MOGL/MOGL_YUK/201912_YUK_MOGL.npy\n",
      "torch.Size([210, 1, 200, 800]) \n",
      "\n",
      "../data/GLDAS/clipped/columbia/200207_clipped.nc\n",
      "../data/GLDAS/clipped/columbia/201912_clipped.nc\n",
      "torch.Size([210, 2, 46, 57]) \n",
      "\n",
      "../data/GLDAS/clipped/yukon/200207_clipped.nc\n",
      "../data/GLDAS/clipped/yukon/201912_clipped.nc\n",
      "torch.Size([210, 2, 38, 143]) \n",
      "\n"
     ]
    }
   ],
   "source": [
    "for idx, i in enumerate(x0):\n",
    "    if idx == 0:\n",
    "        print(i)\n",
    "        y0 = torch.from_numpy(np.load(i)).unsqueeze(0)\n",
    "    elif idx == 210:\n",
    "        print(x0[idx-1])\n",
    "        break\n",
    "    else:\n",
    "        y1 = torch.from_numpy(np.load(i)).unsqueeze(0)\n",
    "        y0 = torch.cat((y0,y1))   \n",
    "y0 = y0.unsqueeze(1)\n",
    "print(y0.shape,'\\n')\n",
    "\n",
    "for idx, i in enumerate(x1):\n",
    "    if idx == 0:\n",
    "        print(i)\n",
    "        y1 = torch.from_numpy(np.load(i)).unsqueeze(0)\n",
    "    elif idx == 210:\n",
    "        print(x1[idx-1])\n",
    "        break\n",
    "    else:\n",
    "        y2 = torch.from_numpy(np.load(i)).unsqueeze(0)\n",
    "        y1 = torch.cat((y1,y2))   \n",
    "\n",
    "y1 = y1.unsqueeze(1)\n",
    "print(y1.shape,'\\n')\n",
    "        \n",
    "for idx, i in enumerate(x2):\n",
    "    if idx <= 29:\n",
    "        continue\n",
    "    elif idx == 30:\n",
    "        print(i)\n",
    "        y2 = xr.open_dataset(i)\n",
    "        y2 = torch.from_numpy(np.flip(np.concatenate((y2.Qs_acc,y2.Qsb_acc)),axis=1).copy()).unsqueeze(0)\n",
    "    elif idx == 240:\n",
    "        print(x2[idx-1])\n",
    "        break\n",
    "    else:\n",
    "        y3 = xr.open_dataset(i)\n",
    "        y3 = torch.from_numpy(np.flip(np.concatenate((y3.Qs_acc,y3.Qsb_acc)),axis=1).copy()).unsqueeze(0)\n",
    "        y2 = torch.cat((y2,y3))   \n",
    "\n",
    "print(y2.shape,'\\n')        \n",
    "\n",
    "for idx, i in enumerate(x3):\n",
    "    if idx <= 29:\n",
    "        continue\n",
    "    elif idx == 30:\n",
    "        print(i)\n",
    "        y3 = xr.open_dataset(i)\n",
    "        y3 = torch.from_numpy(np.flip(np.concatenate((y3.Qs_acc,y3.Qsb_acc)),axis=1).copy()).unsqueeze(0)\n",
    "    elif idx == 240:\n",
    "        print(x3[idx-1])\n",
    "        break\n",
    "    else:\n",
    "        y4 = xr.open_dataset(i)\n",
    "        y4 = torch.from_numpy(np.flip(np.concatenate((y4.Qs_acc,y4.Qsb_acc)),axis=1).copy()).unsqueeze(0)\n",
    "        y3 = torch.cat((y3,y4))    \n",
    "        \n",
    "print(y3.shape,'\\n')"
   ]
  },
  {
   "cell_type": "code",
   "execution_count": 88,
   "id": "8fe9a32d-3745-452f-8f86-7afd4544c260",
   "metadata": {},
   "outputs": [],
   "source": [
    "torch.save(y0,'../data/traintest/COL_MOGL_traintest.pt')\n",
    "torch.save(y1,'../data/traintest/YUK_MOGL_traintest.pt')\n",
    "torch.save(y2,'../data/traintest/COL_CLIP_traintest.pt')\n",
    "torch.save(y3,'../data/traintest/YUK_CLIP_traintest.pt')"
   ]
  },
  {
   "cell_type": "code",
   "execution_count": null,
   "id": "3e46095e-133b-4a0b-8995-a325e45e69df",
   "metadata": {},
   "outputs": [],
   "source": []
  }
 ],
 "metadata": {
  "kernelspec": {
   "display_name": "Python (.conda-f2f_2)",
   "language": "python",
   "name": "conda-env-.conda-f2f_2-py"
  },
  "language_info": {
   "codemirror_mode": {
    "name": "ipython",
    "version": 3
   },
   "file_extension": ".py",
   "mimetype": "text/x-python",
   "name": "python",
   "nbconvert_exporter": "python",
   "pygments_lexer": "ipython3",
   "version": "3.10.4"
  }
 },
 "nbformat": 4,
 "nbformat_minor": 5
}
