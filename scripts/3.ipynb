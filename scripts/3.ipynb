{
 "cells": [
  {
   "cell_type": "code",
   "execution_count": 2,
   "id": "d9272071-1441-45c0-92fe-6b1502c1335f",
   "metadata": {},
   "outputs": [],
   "source": [
    "import torch\n",
    "import glob\n",
    "import matplotlib as mpl\n",
    "import matplotlib.pyplot as plt\n",
    "import matplotlib.gridspec as gridspec"
   ]
  },
  {
   "cell_type": "code",
   "execution_count": 6,
   "id": "0f2e2043-31f1-43ec-89aa-46ef3eed25a0",
   "metadata": {},
   "outputs": [
    {
     "name": "stdout",
     "output_type": "stream",
     "text": [
      "../data/traintest/COL_CLIP_traintest.pt\n",
      "torch.Size([210, 2, 46, 57])\n",
      "../data/traintest/COL_MOGL_traintest.pt\n",
      "torch.Size([210, 1, 200, 600])\n",
      "../data/traintest/COL_STFL_traintest.pt\n",
      "torch.Size([210, 1, 1, 7])\n",
      "../data/traintest/YUK_CLIP_traintest.pt\n",
      "torch.Size([210, 2, 38, 143])\n",
      "../data/traintest/YUK_MOGL_traintest.pt\n",
      "torch.Size([210, 1, 200, 800])\n",
      "../data/traintest/YUK_STFL_traintest.pt\n",
      "torch.Size([210, 1, 1, 6])\n"
     ]
    }
   ],
   "source": [
    "x = glob.glob('../data/traintest/*.pt')\n",
    "for i in x:\n",
    "    print(i)\n",
    "    j = torch.load(i)\n",
    "    print(j.shape)"
   ]
  },
  {
   "cell_type": "code",
   "execution_count": null,
   "id": "69eae8bb-9772-4e6b-944c-26afe0a758ff",
   "metadata": {},
   "outputs": [],
   "source": []
  }
 ],
 "metadata": {
  "kernelspec": {
   "display_name": "Python (.conda-f2f_2)",
   "language": "python",
   "name": "conda-env-.conda-f2f_2-py"
  },
  "language_info": {
   "codemirror_mode": {
    "name": "ipython",
    "version": 3
   },
   "file_extension": ".py",
   "mimetype": "text/x-python",
   "name": "python",
   "nbconvert_exporter": "python",
   "pygments_lexer": "ipython3",
   "version": "3.10.4"
  }
 },
 "nbformat": 4,
 "nbformat_minor": 5
}
