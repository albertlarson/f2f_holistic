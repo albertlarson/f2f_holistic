{
 "cells": [
  {
   "cell_type": "code",
   "execution_count": 3,
   "id": "925d7878-eb12-4987-b4d1-95f405014d53",
   "metadata": {},
   "outputs": [],
   "source": [
    "import torch\n",
    "import numpy as np\n",
    "import hydroeval as he\n",
    "import delorean\n",
    "import matplotlib.pyplot as plt"
   ]
  },
  {
   "cell_type": "code",
   "execution_count": 4,
   "id": "04df5d02-d523-4b83-bd0c-117afcb87bbc",
   "metadata": {},
   "outputs": [],
   "source": [
    "class dset_maker(torch.utils.data.Dataset):\n",
    "    def __init__(self,x,y,z,l):\n",
    "        if l == 0:\n",
    "            self.x = x[:z]\n",
    "            self.y = y[:z]\n",
    "            self.yog = self.y[:z]\n",
    "            self.std,self.mean = torch.std_mean(self.y)\n",
    "            # self.y = (self.y - self.mean)/self.std\n",
    "        else:\n",
    "            self.x = x[:z-l]\n",
    "            self.y = y[l:z]\n",
    "            self.yog = self.y[:z]\n",
    "            # self.std,self.mean = torch.std_mean(self.y)\n",
    "            # self.y = (self.y - self.mean)/self.std\n",
    "        \n",
    "    def __getitem__(self,idx):\n",
    "        x = self.x[idx].to('cuda')\n",
    "        y = self.y[idx].to('cuda')\n",
    "        std = self.std[idx].to('cuda')\n",
    "        mean = self.mean[idx].to('cuda')\n",
    "        return x, y, yog, std, mean\n",
    "    def __len__(self):\n",
    "        return self.x.shape[0]\n",
    "\n",
    "class a_linear(torch.nn.Module):\n",
    "    def __init__(self,XXXX,XX):\n",
    "        super(a_linear,self).__init__()\n",
    "        self.XXXX = XXXX\n",
    "        self.XX = XX\n",
    "        self.relu = torch.nn.ReLU(inplace=True)\n",
    "        self.linear1 = torch.nn.Linear(self.XXXX,3) ### this is what gets changed based on important switch\n",
    "        self.linear2 = torch.nn.Linear(3,self.XX)\n",
    "    def forward(self, x):\n",
    "        o = self.relu(self.linear1(x.view(x.size(0),-1)))\n",
    "        o = self.linear2(o)\n",
    "        # o = self.relu(self.linear3(o))\n",
    "        # o = self.relu(self.linear4(o))\n",
    "        return o\n",
    "\n",
    "class a_simp(torch.nn.Module):\n",
    "    def __init__(self,XXXX,XX):\n",
    "        super(a_simp,self).__init__()\n",
    "        self.XXXX = XXXX\n",
    "        self.XX = XX\n",
    "        self.relu = torch.nn.ReLU(inplace=True)\n",
    "        self.linear1 = torch.nn.Linear(self.XXXX,24) ### this is what gets changed based on important switch\n",
    "        self.linear2 = torch.nn.Linear(24,12)\n",
    "        self.linear3 = torch.nn.Linear(50,20)\n",
    "        self.linear4 = torch.nn.Linear(20,10)\n",
    "        self.linear5 = torch.nn.Linear(12,self.XX)\n",
    "    def forward(self, x):\n",
    "        o = self.linear1(x.view(x.size(0),-1))\n",
    "        o = self.relu(self.linear2(o))\n",
    "        # o = self.relu(self.linear3(o))\n",
    "        # o = self.relu(self.linear4(o))\n",
    "        o = self.linear5(o)\n",
    "        return o\n",
    "    \n",
    "class a(torch.nn.Module):\n",
    "    def __init__(self,XXXX,XX):\n",
    "        super(a,self).__init__()\n",
    "        chonz = 32\n",
    "        \n",
    "        #i/o sizes\n",
    "        self.XXXX = XXXX\n",
    "        self.XX = XX\n",
    "        # into conv \n",
    "        self.conv1 = torch.nn.Conv2d(in_channels=1, out_channels=chonz, kernel_size=3, padding=1, bias=False)\n",
    "        self.relu = torch.nn.ReLU(inplace=True)\n",
    "        # residual / latent space layers\n",
    "        hidden_layers = []\n",
    "        for i in range(15):\n",
    "            hidden_layers.append(torch.nn.Conv2d(in_channels=chonz, out_channels=chonz, kernel_size=3, padding=1, bias=False))\n",
    "            hidden_layers.append(torch.nn.BatchNorm2d(chonz))\n",
    "            hidden_layers.append(torch.nn.ReLU(inplace=True))\n",
    "        self.mid_layer = torch.nn.Sequential(*hidden_layers)\n",
    "        # out of conv into perceptronesque / encoder\n",
    "        self.conv3 = torch.nn.Conv2d(in_channels=chonz, out_channels=1, kernel_size=3, padding=1, bias=False) #anything below this is for shrinking \n",
    "        self.linear1 = torch.nn.Linear(self.XXXX,100) ### this is what gets changed based on important switch\n",
    "        self.linear2 = torch.nn.Linear(100,50)\n",
    "        self.linear3 = torch.nn.Linear(50,20)\n",
    "        self.linear4 = torch.nn.Linear(20,10)\n",
    "        self.linear5 = torch.nn.Linear(10,self.XX)\n",
    "     \n",
    "    #calls the layers explained in __init__ above\n",
    "    def forward(self, x):\n",
    "        out1 = self.relu(self.conv1(x))\n",
    "        out = self.mid_layer(out1)\n",
    "        o = self.conv3(out+out1)\n",
    "        o = self.linear1(o.view(o.size(0),-1))\n",
    "        o = self.relu(self.linear2(o))\n",
    "        o = self.relu(self.linear3(o))\n",
    "        o = self.relu(self.linear4(o))\n",
    "        o = self.linear5(o)\n",
    "        return o\n"
   ]
  },
  {
   "cell_type": "code",
   "execution_count": 5,
   "id": "79122068-ef0f-4875-9e70-419ba2b56e52",
   "metadata": {},
   "outputs": [
    {
     "name": "stdout",
     "output_type": "stream",
     "text": [
      "( 1 ) nvidia geforce gtx 1080 ti available \n",
      "\n",
      "train / val / test dataset lengths: 188,5,5\n"
     ]
    }
   ],
   "source": [
    "torch.cuda.empty_cache()\n",
    "print(f'( {torch.cuda.device_count()} ) {torch.cuda.get_device_name(0)} available \\n'.lower())\n",
    "\n",
    "imz = torch.load('../../data/traintest/COL_MOGL_ZSCORE_traintest.pt')\n",
    "sf = torch.load('../../data/traintest/COL_STFL_traintest.pt')\n",
    "lag = 12\n",
    "dset = dset_maker(imz,sf,imz.shape[0],lag)\n",
    "cube_height = dset.x.shape[2]\n",
    "cube_width = dset.x.shape[3]\n",
    "epochs = 100\n",
    "stop = 1\n",
    "data_split =.95\n",
    "batch_size = 2\n",
    "criterion = torch.nn.MSELoss()\n",
    "lr = 1e-4\n",
    "\n",
    "train_size = int(data_split*len(dset))\n",
    "valid_size = int(0.5*(len(dset) - train_size))\n",
    "test_size = int(len(dset)-train_size-valid_size)\n",
    "\n",
    "train_dset = torch.utils.data.TensorDataset(dset.x[:train_size],\n",
    "                                            dset.y[:train_size])\n",
    "valid_dset = torch.utils.data.TensorDataset(dset.x[train_size: train_size + valid_size],\n",
    "                                            dset.y[train_size: train_size + valid_size])\n",
    "test_dset = torch.utils.data.TensorDataset(dset.x[train_size + valid_size:],\n",
    "                                           dset.y[train_size + valid_size:],\n",
    "                                           dset.yog[train_size + valid_size:])\n",
    "print(f\"train / val / test dataset lengths: {len(train_dset)},{len(valid_dset)},{len(test_dset)}\")\n",
    "\n",
    "train_dataloader = torch.utils.data.DataLoader(dataset=train_dset, batch_size=batch_size, shuffle=True)\n",
    "valid_dataloader = torch.utils.data.DataLoader(dataset=valid_dset, batch_size=batch_size, shuffle=True)\n",
    "\n",
    "model = a_linear(dset.x.shape[2] * dset.x.shape[3],dset.y.shape[-1])\n",
    "model.cuda()\n",
    "\n",
    "optimizer = torch.optim.Adam(model.parameters(),lr=lr)"
   ]
  },
  {
   "cell_type": "code",
   "execution_count": 6,
   "id": "1a408365-55ca-4a45-9e32-70fdf3c0d730",
   "metadata": {},
   "outputs": [
    {
     "name": "stdout",
     "output_type": "stream",
     "text": [
      "( 1 ) nvidia geforce gtx 1080 ti available \n",
      "\n",
      "training began @ 2023-02-21 16:31:37\n",
      "nse, train / val, epoch 0: [-1.29] / [-1.27]\n",
      "nse, train / val, epoch 10: [-1.22] / [-1.2]\n",
      "nse, train / val, epoch 20: [-1.09] / [-1.06]\n",
      "nse, train / val, epoch 30: [-0.92] / [-0.89]\n",
      "nse, train / val, epoch 40: [-0.73] / [-0.7]\n",
      "nse, train / val, epoch 50: [-0.53] / [-0.5]\n",
      "nse, train / val, epoch 60: [-0.34] / [-0.31]\n",
      "nse, train / val, epoch 70: [-0.17] / [-0.13]\n",
      "nse, train / val, epoch 80: [-0.] / [0.04]\n",
      "nse, train / val, epoch 90: [0.14] / [0.18]\n",
      "training ended @ 2023-02-21 16:31:53\n",
      "training time 0.25 (minutes)\n"
     ]
    }
   ],
   "source": [
    "# scheduler = torch.optim.lr_scheduler.StepLR(optimizer=optimizer,step_size=150,verbose=False)\n",
    "\n",
    "# redundantly empty cache\n",
    "torch.cuda.empty_cache()\n",
    "print(f'( {torch.cuda.device_count()} ) {torch.cuda.get_device_name(0)} available \\n'.lower())\n",
    "\n",
    "\n",
    "t0 = delorean.Delorean().shift('US/Eastern').datetime\n",
    "print(f\"training began @ {t0.strftime('%Y-%m-%d %H:%M:%S')}\")\n",
    "\n",
    "# print(f'Training started at {datetime.now(east).strftime('%Y-%m-%d %H:%M:%S')}')\n",
    "t_loss = []\n",
    "v_loss = []\n",
    "e_time = []\n",
    "nse_during = []\n",
    "for i in range(epochs):\n",
    "    t_e_loss = 0\n",
    "    v_e_loss = 0\n",
    "    train_pred = torch.empty((0,1)).to('cuda')\n",
    "    train_y = torch.empty((0,1)).to('cuda')\n",
    "    \n",
    "    val_pred = torch.empty((0,1)).to('cuda')\n",
    "    val_y = torch.empty((0,1)).to('cuda')\n",
    "    \n",
    "    t00 = delorean.Delorean().shift('US/Eastern').datetime\n",
    "    model.train()\n",
    "    for idx,(x,y) in enumerate(train_dataloader):\n",
    "        x = x.cuda()\n",
    "        y = y.cuda()\n",
    "        optimizer.zero_grad()\n",
    "        predicted = model(x)   \n",
    "        train_pred = torch.cat((train_pred,predicted.reshape(-1,1)))\n",
    "        train_y = torch.cat((train_y,y.reshape(-1,1)))\n",
    "        loss = criterion(predicted.reshape(-1),y.reshape(-1))\n",
    "        loss.backward()\n",
    "        optimizer.step()\n",
    "        t_e_loss += loss.item()\n",
    "    for xx,yy in valid_dataloader:\n",
    "        xx = xx.cuda()\n",
    "        yy = yy.cuda()\n",
    "        v_pred = model(xx)\n",
    "        loss2 = criterion(v_pred.reshape(-1),yy.reshape(-1))\n",
    "        v_e_loss += loss2.item()\n",
    "        val_pred = torch.cat((val_pred,v_pred.reshape(-1,1)))\n",
    "        val_y = torch.cat((val_y,yy.reshape(-1,1)))\n",
    "        \n",
    "        \n",
    "    nse_epoch_train = he.evaluator(he.nse,train_pred.cpu().detach().numpy(),train_y.cpu().detach().numpy())\n",
    "    nse_epoch_valid = he.evaluator(he.nse,val_pred.cpu().detach().numpy(),val_y.cpu().detach().numpy())\n",
    "    if i % 10 == 0:\n",
    "        print(f\"nse, train / val, epoch {i}: {np.around(nse_epoch_train,2)} / {np.around(nse_epoch_valid,2)}\")\n",
    "    nse_during.append(nse_epoch_train)\n",
    "    t_loss.append(t_e_loss/len(train_dataloader))\n",
    "    v_loss.append(v_e_loss/len(valid_dataloader))\n",
    "    t11 = delorean.Delorean().shift('US/Eastern').datetime\n",
    "    e_time.append(t11-t00)\n",
    "    if nse_epoch_train > stop:\n",
    "        break\n",
    "t1 = delorean.Delorean().shift('US/Eastern').datetime\n",
    "t2 = t1 - t0\n",
    "t2 = t2.seconds / 60\n",
    "print(f\"training ended @ {t1.strftime('%Y-%m-%d %H:%M:%S')}\")\n",
    "print(f\"training time {round(t2,3)} (minutes)\")\n"
   ]
  },
  {
   "cell_type": "code",
   "execution_count": 7,
   "id": "12793038-a915-40a2-be13-f8a71f476d51",
   "metadata": {},
   "outputs": [
    {
     "name": "stdout",
     "output_type": "stream",
     "text": [
      "torch.Size([5, 1, 1, 7])\n",
      "torch.Size([5, 7])\n",
      "[0.73048057]\n"
     ]
    }
   ],
   "source": [
    "test_dataloader = torch.utils.data.DataLoader(dataset=test_dset, batch_size=1, shuffle=False)\n",
    "\n",
    "test_pred = torch.empty((0,test_dset.tensors[-1].shape[-1])).to('cuda')\n",
    "test_yy = torch.empty((0,1,1,test_dset.tensors[-1].shape[-1])).to('cuda')\n",
    "\n",
    "with torch.no_grad():\n",
    "    for xx,yy,_ in test_dataloader:\n",
    "        pred = model(xx.cuda())\n",
    "        test_pred = torch.cat((test_pred,pred))\n",
    "        test_yy = torch.cat((test_yy,yy.cuda()))\n",
    "\n",
    "print(test_yy.shape)\n",
    "print(test_pred.shape)\n",
    "nse_test = he.evaluator(he.nse,test_pred.cpu().detach().numpy().reshape(-1,1),test_yy.cpu().detach().numpy().reshape(-1,1)) \n",
    "print(nse_test)\n"
   ]
  },
  {
   "cell_type": "code",
   "execution_count": 8,
   "id": "03e56209-d81f-4fd5-b7f8-7d089cfff179",
   "metadata": {},
   "outputs": [
    {
     "data": {
      "image/png": "[encoded data removed]",
      "text/plain": [
       "<Figure size 640x480 with 1 Axes>"
      ]
     },
     "metadata": {},
     "output_type": "display_data"
    },
    {
     "data": {
      "image/png": "[encoded data removed]",
      "text/plain": [
       "<Figure size 640x480 with 1 Axes>"
      ]
     },
     "metadata": {},
     "output_type": "display_data"
    }
   ],
   "source": [
    "plt.plot(test_dset.tensors[-1].cpu().squeeze())\n",
    "plt.figure()\n",
    "plt.plot(test_pred.cpu().squeeze());"
   ]
  },
  {
   "cell_type": "code",
   "execution_count": 88,
   "id": "2f8b1258-79ac-49e5-b83b-03e753c98205",
   "metadata": {},
   "outputs": [
    {
     "data": {
      "text/plain": [
       "7"
      ]
     },
     "execution_count": 88,
     "metadata": {},
     "output_type": "execute_result"
    }
   ],
   "source": [
    "test_pred.shape[-1]"
   ]
  },
  {
   "cell_type": "code",
   "execution_count": 10,
   "id": "61d50b9f-bd9b-4bee-8b36-4000d690f52b",
   "metadata": {},
   "outputs": [
    {
     "name": "stdout",
     "output_type": "stream",
     "text": [
      "[60.0, 60.0, 40.0, 0.0, 20.0, 40.0, 0.0]\n",
      "31.43\n"
     ]
    }
   ],
   "source": [
    "accuracy_within_two_stds_of_actual = []\n",
    "for i in range(test_pred.shape[-1]):\n",
    "    \n",
    "    # plt.figure(figsize=(15,5))\n",
    "    j = test_pred.cpu()[:,i]\n",
    "    k = j + (2 * torch.std(j))\n",
    "    l = j - (2 * torch.std(j))\n",
    "    \n",
    "    m = test_dset.tensors[-1].cpu().squeeze()[:,i]\n",
    "    n = np.where((m<=k) & (m>=l),1,0)\n",
    "    o = round(100*np.sum(n)/n.shape[0],2)\n",
    "    accuracy_within_two_stds_of_actual.append(o)\n",
    "avg_acc = np.format_float_positional(np.mean(accuracy_within_two_stds_of_actual),precision=2)\n",
    "print(accuracy_within_two_stds_of_actual)\n",
    "print(avg_acc)\n",
    "    \n",
    "    # plt.plot(j)\n",
    "    # plt.plot(k,color='red')\n",
    "    # plt.plot(l,color='red')\n",
    "    # plt.plot(m,color='green')\n",
    "    # plt.legend(['modeled','mod+2 std','mod-2 std','actual'])\n",
    "    # plt.pause(1)"
   ]
  },
  {
   "cell_type": "code",
   "execution_count": 45,
   "id": "96f043a0-c7f7-4887-9ac8-50d6a9120358",
   "metadata": {},
   "outputs": [],
   "source": [
    "sst = True\n",
    "basin = 'Columbia'\n",
    "nn = 'ann1000'\n",
    "shuffled = True\n",
    "zscore = 'xonly'\n",
    "epochs = 100\n",
    "\n",
    "input_params = {\n",
    "    'lr':[lr],\n",
    "    'sst':[sst],\n",
    "    'basin':[basin],\n",
    "    'data_split':[data_split],\n",
    "    'nn':[nn],\n",
    "    'lag':[lag],\n",
    "    'shuffled':[shuffled],\n",
    "    'zscore':[zscore],\n",
    "    'epochs':[epochs]\n",
    "}\n"
   ]
  },
  {
   "cell_type": "code",
   "execution_count": 46,
   "id": "f8eaed33-866f-41c4-8794-d1fd23ca3e0c",
   "metadata": {},
   "outputs": [
    {
     "data": {
      "text/plain": [
       "{'lr': [0.0001],\n",
       " 'sst': [True],\n",
       " 'basin': ['Columbia'],\n",
       " 'data_split': [0.95],\n",
       " 'nn': ['ann1000'],\n",
       " 'lag': [12],\n",
       " 'shuffled': [True],\n",
       " 'zscore': ['xonly'],\n",
       " 'epochs': [100]}"
      ]
     },
     "execution_count": 46,
     "metadata": {},
     "output_type": "execute_result"
    }
   ],
   "source": [
    "input_params"
   ]
  },
  {
   "cell_type": "code",
   "execution_count": 31,
   "id": "2a783b68-8ed6-49e1-b8da-5a471293044a",
   "metadata": {},
   "outputs": [],
   "source": [
    "import pandas as pd"
   ]
  },
  {
   "cell_type": "code",
   "execution_count": 49,
   "id": "a74e88c6-1880-45e7-9548-3853acf65bda",
   "metadata": {},
   "outputs": [],
   "source": [
    "inp_par1 = {\n",
    "    'lr':[lr],\n",
    "    'sst':[sst],\n",
    "    'basin':[basin],\n",
    "    'data_split':[data_split],\n",
    "    'nn':[nn],\n",
    "    'lag':[lag],\n",
    "    'shuffled':[shuffled],\n",
    "    'zscore':[zscore],\n",
    "    'epochs':[epochs]\n",
    "}\n"
   ]
  },
  {
   "cell_type": "code",
   "execution_count": 52,
   "id": "041e6e02-5f91-4a09-a6c6-98bfda06bbb8",
   "metadata": {},
   "outputs": [],
   "source": [
    "df = pd.DataFrame.from_dict(input_params)\n",
    "df\n",
    "\n",
    "df1 = pd.DataFrame.from_dict(inp_par1)\n",
    "df1\n",
    "\n",
    "DF = pd.concat([df,df1])\n",
    "DF.to_pickle('hey.pkl')"
   ]
  },
  {
   "cell_type": "code",
   "execution_count": 53,
   "id": "c74ab7d3-43a5-47e0-bc55-3b7c6c667b2e",
   "metadata": {},
   "outputs": [
    {
     "data": {
      "text/html": [
       "<div>\n",
       "<style scoped>\n",
       "    .dataframe tbody tr th:only-of-type {\n",
       "        vertical-align: middle;\n",
       "    }\n",
       "\n",
       "    .dataframe tbody tr th {\n",
       "        vertical-align: top;\n",
       "    }\n",
       "\n",
       "    .dataframe thead th {\n",
       "        text-align: right;\n",
       "    }\n",
       "</style>\n",
       "<table border=\"1\" class=\"dataframe\">\n",
       "  <thead>\n",
       "    <tr style=\"text-align: right;\">\n",
       "      <th></th>\n",
       "      <th>lr</th>\n",
       "      <th>sst</th>\n",
       "      <th>basin</th>\n",
       "      <th>data_split</th>\n",
       "      <th>nn</th>\n",
       "      <th>lag</th>\n",
       "      <th>shuffled</th>\n",
       "      <th>zscore</th>\n",
       "      <th>epochs</th>\n",
       "    </tr>\n",
       "  </thead>\n",
       "  <tbody>\n",
       "    <tr>\n",
       "      <th>0</th>\n",
       "      <td>0.0001</td>\n",
       "      <td>True</td>\n",
       "      <td>Columbia</td>\n",
       "      <td>0.95</td>\n",
       "      <td>ann1000</td>\n",
       "      <td>12</td>\n",
       "      <td>True</td>\n",
       "      <td>xonly</td>\n",
       "      <td>100</td>\n",
       "    </tr>\n",
       "    <tr>\n",
       "      <th>0</th>\n",
       "      <td>0.0001</td>\n",
       "      <td>True</td>\n",
       "      <td>Columbia</td>\n",
       "      <td>0.95</td>\n",
       "      <td>ann1000</td>\n",
       "      <td>12</td>\n",
       "      <td>True</td>\n",
       "      <td>xonly</td>\n",
       "      <td>100</td>\n",
       "    </tr>\n",
       "  </tbody>\n",
       "</table>\n",
       "</div>"
      ],
      "text/plain": [
       "       lr   sst     basin  data_split       nn  lag  shuffled zscore  epochs\n",
       "0  0.0001  True  Columbia        0.95  ann1000   12      True  xonly     100\n",
       "0  0.0001  True  Columbia        0.95  ann1000   12      True  xonly     100"
      ]
     },
     "execution_count": 53,
     "metadata": {},
     "output_type": "execute_result"
    }
   ],
   "source": [
    "DF1 = pd.read_pickle('hey.pkl')\n",
    "DF1"
   ]
  },
  {
   "cell_type": "code",
   "execution_count": null,
   "id": "8e03c0b1-df6c-47d1-8c7d-56fbe1e201ff",
   "metadata": {},
   "outputs": [],
   "source": []
  }
 ],
 "metadata": {
  "kernelspec": {
   "display_name": "Python (.conda-f2f_2)",
   "language": "python",
   "name": "conda-env-.conda-f2f_2-py"
  },
  "language_info": {
   "codemirror_mode": {
    "name": "ipython",
    "version": 3
   },
   "file_extension": ".py",
   "mimetype": "text/x-python",
   "name": "python",
   "nbconvert_exporter": "python",
   "pygments_lexer": "ipython3",
   "version": "3.10.4"
  }
 },
 "nbformat": 4,
 "nbformat_minor": 5
}
