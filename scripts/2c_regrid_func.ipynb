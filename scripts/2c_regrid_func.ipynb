{
 "cells": [
  {
   "cell_type": "code",
   "execution_count": 1,
   "metadata": {},
   "outputs": [
    {
     "name": "stderr",
     "output_type": "stream",
     "text": [
      "/work/albertl_uri_edu/.conda/envs/f2f_2/lib/python3.10/site-packages/tqdm/auto.py:22: TqdmWarning: IProgress not found. Please update jupyter and ipywidgets. See https://ipywidgets.readthedocs.io/en/stable/user_install.html\n",
      "  from .autonotebook import tqdm as notebook_tqdm\n"
     ]
    }
   ],
   "source": [
    "### already did regrid, so now open to reuse\n",
    "import torch\n",
    "import xesmf as xe\n",
    "import xarray as xr\n",
    "import numpy as np\n",
    "import matplotlib as mpl\n",
    "import matplotlib.pyplot as plt\n",
    "import matplotlib.gridspec as gridspec\n",
    "\n",
    "plt.rcParams[\"font.family\"] = \"DejaVu Serif\"\n",
    "plt.rcParams['font.size'] = 8\n",
    "plt.rcParams['figure.dpi'] = 200\n",
    "plt.rcParams['axes.linewidth'] = 2\n",
    "plt.rcParams['font.weight'] = \"bold\"\n",
    "plt.rcParams['legend.framealpha'] = 0\n",
    "\n",
    "import glob"
   ]
  },
  {
   "cell_type": "code",
   "execution_count": 3,
   "metadata": {},
   "outputs": [
    {
     "name": "stdout",
     "output_type": "stream",
     "text": [
      "200207 20020731\n",
      "200208 20020831\n",
      "200209 20020930\n",
      "200210 20021031\n"
     ]
    }
   ],
   "source": [
    "L = sorted(glob.glob('../data/GLDAS/*.nc*'))\n",
    "L = L[30:]\n",
    "M = sorted(glob.glob('../data/MODIS/*.nc'))\n",
    "for idx,x in enumerate(L):\n",
    "    print(x[31:37], M[idx][34:42])\n",
    "    if idx == 3:\n",
    "        break"
   ]
  },
  {
   "cell_type": "code",
   "execution_count": 4,
   "metadata": {},
   "outputs": [
    {
     "name": "stdout",
     "output_type": "stream",
     "text": [
      "200207\n"
     ]
    },
    {
     "name": "stderr",
     "output_type": "stream",
     "text": [
      "/work/albertl_uri_edu/.conda/envs/f2f_2/lib/python3.10/site-packages/xarray/core/dataarray.py:853: FutureWarning: elementwise comparison failed; returning scalar instead, but in the future will perform elementwise comparison\n",
      "  return key in self.data\n"
     ]
    },
    {
     "name": "stdout",
     "output_type": "stream",
     "text": [
      "200307\n",
      "200407\n",
      "200507\n",
      "200607\n",
      "200707\n",
      "200807\n",
      "200907\n",
      "201007\n",
      "201107\n",
      "201207\n",
      "201307\n",
      "201407\n",
      "201507\n",
      "201607\n",
      "201707\n",
      "201807\n",
      "201907\n",
      "202007\n",
      "202107\n",
      "202207\n"
     ]
    }
   ],
   "source": [
    "# loc_up = 230\n",
    "# loc_down = 430\n",
    "# loc_left = 800\n",
    "# loc_right = 1600\n",
    "#yukon\n",
    "\n",
    "loc_up = 400\n",
    "loc_down = 600\n",
    "loc_left = 1350\n",
    "loc_right = 1950\n",
    "#columbia\n",
    "\n",
    "\n",
    "\n",
    "\n",
    "weights = xr.open_dataset('../data/bilinear_600x1440_2160x4320.nc')\n",
    "vmin = 0\n",
    "vmax = 1\n",
    "cmap = mpl.colormaps['cividis']\n",
    "patchsize = 100\n",
    "unfoldobj = torch.nn.Unfold(kernel_size = (patchsize,patchsize),stride=int((patchsize/1)))\n",
    "\n",
    "\n",
    "def replace_nan(z,val):\n",
    "    z = np.where(z==val,np.nan,z)\n",
    "    return z\n",
    "\n",
    "def foldit(x,og):\n",
    "    x0 = x.reshape(-1,1,x.shape[2]*x.shape[3]).permute(1,2,0)\n",
    "    fold = torch.nn.Fold(output_size=(og.shape[2],og.shape[3]),kernel_size=(patchsize,patchsize),stride=(patchsize,patchsize))\n",
    "    return fold(x0)\n",
    "\n",
    "for idx,x in enumerate(L):\n",
    "\n",
    "    if idx % 12 == 0:\n",
    "        print(x[31:37])\n",
    "\n",
    "    y = xr.open_dataset(x)\n",
    "    x1 = xr.open_dataset(M[idx])\n",
    "    Qs_GLDAS = y.Qs_acc\n",
    "    Qsb_GLDAS = y.Qsb_acc\n",
    "    sst = x1.sst\n",
    "    \n",
    "    if idx == 0:\n",
    "        regrid = xe.Regridder(Qs_GLDAS,sst,method='bilinear',weights=weights)\n",
    "\n",
    "    Qs_GLDAS_rg = regrid(Qs_GLDAS)\n",
    "    Qsb_GLDAS_rg = regrid(Qsb_GLDAS)\n",
    "    Qs = replace_nan(Qs_GLDAS_rg,0)\n",
    "    Qsb = replace_nan(Qsb_GLDAS_rg,0)\n",
    "\n",
    "    a1 = np.roll(Qs[0],1000)\n",
    "    a2 = np.roll(Qsb[0],1000)\n",
    "    a1_bool = np.where(np.isnan(a1) == True, 1, 0)\n",
    "    a2_bool = np.where(np.isnan(a2) == True, 1, 0)\n",
    "    a1_0 = np.where(np.isnan(a1) == True, 0, a1)\n",
    "    a2_0 = np.where(np.isnan(a2) == True, 0, a2)\n",
    "    a3_0 = a1_0 + a2_0\n",
    "    \n",
    "    ##INSERT ZSCORE\n",
    "    \n",
    "\n",
    "    \n",
    "    \n",
    "    a3_bool = np.where((a1_bool == 0) | (a2_bool == 0),a3_0,np.nan)\n",
    "    a1 = a1[loc_up:loc_down,loc_left:loc_right]\n",
    "    a2 = a2[loc_up:loc_down,loc_left:loc_right]\n",
    "    a3 = a3_bool[loc_up:loc_down,loc_left:loc_right]\n",
    "    a4 = np.roll(sst,1000)\n",
    "    a4 = a4[loc_up:loc_down,loc_left:loc_right]\n",
    "    \n",
    "    ##INSERT ZSCORE\n",
    "    \n",
    "    \n",
    "    A4 = torch.from_numpy(a4).unsqueeze(0).unsqueeze(0)\n",
    "    mask_patches = unfoldobj(A4).permute(2,0,1).reshape(-1,1,patchsize,patchsize)\n",
    "    d = [torch.where(torch.isfinite(x) == True, x, torch.nanmean(x)) for x in mask_patches]\n",
    "    for idz,z in enumerate(d):\n",
    "        if idz == 0:\n",
    "            e = z\n",
    "        else:\n",
    "            e = torch.cat((e,z))\n",
    "    e = e.unsqueeze(1)\n",
    "    ya = foldit(e,A4)\n",
    "    ya = np.where(np.isfinite(ya) == False, np.nanmean(ya),ya)\n",
    "\n",
    "    xxxx = np.where(np.isfinite(a3) == True, a3, ya[0,0])\n",
    "    np.save(f'../data/MOGL_COL_ZSCORE/{x[31:37]}_COL_MOGL_ZSCORE.npy',xxxx)\n",
    "\n",
    "\n",
    "# fig = plt.figure(figsize=(15,10))\n",
    "# gs = gridspec.GridSpec(nrows=3,ncols=1,hspace=.05,wspace=.2,width_ratios=[1],height_ratios=[.3,.3,.4])\n",
    "# sub0 = gs[0].subgridspec(1,2)\n",
    "# sub1 = gs[1].subgridspec(1,2)\n",
    "\n",
    "# fig.add_subplot(sub0[0])\n",
    "# plt.imshow(a1,\n",
    "#            vmin=vmin,\n",
    "#            vmax=vmax,\n",
    "#           cmap=cmap)\n",
    "# plt.title('Qs')\n",
    "# plt.colorbar(fraction=.01)\n",
    "\n",
    "# fig.add_subplot(sub0[1])\n",
    "\n",
    "# plt.imshow(a2,\n",
    "#            vmin=vmin,\n",
    "#            vmax=vmax,\n",
    "#           cmap=cmap)\n",
    "# plt.title('Qsb')\n",
    "# plt.colorbar(fraction=.01)\n",
    "\n",
    "# fig.add_subplot(sub1[0])\n",
    "# plt.imshow(a3,\n",
    "#            vmin=vmin,\n",
    "#            vmax=vmax,\n",
    "#           cmap=cmap)\n",
    "# plt.title('Qs + Qsb where possible, \\nnan or single value when not')\n",
    "# plt.colorbar(fraction=.01)\n",
    "\n",
    "# fig.add_subplot(sub1[1])\n",
    "# plt.imshow(xxxx,cmap = cmap)\n",
    "# plt.title('Qs + Qsb + SST, one colormap')\n",
    "# plt.colorbar(fraction=.01)\n",
    "\n",
    "\n",
    "# fig.add_subplot(gs[2])\n",
    "# plt.imshow(np.where(np.isnan(a3) == False, a3,np.nan),cmap='turbo')\n",
    "# plt.title('Qs + Qsb + SST, two colormaps')\n",
    "# plt.gca().set_aspect('equal')\n",
    "# clb = plt.colorbar(fraction=.015,location='right')\n",
    "# clb.ax.set_title('kg m-2')\n",
    "# plt.imshow(np.where(np.isnan(a3) == True, xxxx, np.nan),cmap='Greens')\n",
    "# clb = plt.colorbar(fraction=.015,location='right')\n",
    "# clb.ax.set_title('°C');"
   ]
  },
  {
   "cell_type": "code",
   "execution_count": 29,
   "metadata": {},
   "outputs": [],
   "source": [
    "huh = glob.glob('../data/MOGL/*.npy')[0]\n",
    "# os.rename(huh,"
   ]
  },
  {
   "cell_type": "code",
   "execution_count": 35,
   "metadata": {},
   "outputs": [
    {
     "data": {
      "text/plain": [
       "'../data/MOGL/200207_YUK_MOGL.npy'"
      ]
     },
     "execution_count": 35,
     "metadata": {},
     "output_type": "execute_result"
    }
   ],
   "source": [
    "huh[:20] + 'YUK_' + huh[20:]"
   ]
  },
  {
   "cell_type": "code",
   "execution_count": 37,
   "metadata": {},
   "outputs": [],
   "source": [
    "import os\n",
    "for x in glob.glob('../data/MOGL/*.npy'):\n",
    "    os.rename(x,x[:20] + 'YUK_' + x[20:])"
   ]
  },
  {
   "cell_type": "code",
   "execution_count": null,
   "metadata": {},
   "outputs": [],
   "source": []
  }
 ],
 "metadata": {
  "kernelspec": {
   "display_name": "Python (.conda-f2f_2)",
   "language": "python",
   "name": "conda-env-.conda-f2f_2-py"
  },
  "language_info": {
   "codemirror_mode": {
    "name": "ipython",
    "version": 3
   },
   "file_extension": ".py",
   "mimetype": "text/x-python",
   "name": "python",
   "nbconvert_exporter": "python",
   "pygments_lexer": "ipython3",
   "version": "3.10.4"
  }
 },
 "nbformat": 4,
 "nbformat_minor": 4
}
