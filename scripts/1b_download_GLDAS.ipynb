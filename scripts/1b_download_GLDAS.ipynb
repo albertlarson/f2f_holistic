{
 "cells": [
  {
   "cell_type": "code",
   "execution_count": 1,
   "id": "b31245f3-f8fb-4ecb-9b65-1490c741eadc",
   "metadata": {},
   "outputs": [],
   "source": [
    "def write(y,x='../data/gldas_dl.txt'):\n",
    "    with open(x,'a') as f:\n",
    "        f.write(y)\n",
    "        f.write('\\n')\n",
    "        f.close()\n",
    "    return _"
   ]
  },
  {
   "cell_type": "code",
   "execution_count": 2,
   "id": "39df2d72-91f1-4240-b86d-abb1cf26fd2f",
   "metadata": {},
   "outputs": [],
   "source": [
    "lis = []\n",
    "with open('../subset_GLDAS_NOAH025_M_2.1_20230123_143018_.txt') as f:\n",
    "    for idx,x in enumerate(f):\n",
    "        if idx == 0:\n",
    "            continue\n",
    "        lis.append(x.strip())\n",
    "        # if idx == 2:\n",
    "        #     break"
   ]
  },
  {
   "cell_type": "code",
   "execution_count": 6,
   "id": "7f285319-0670-478e-baef-17df6c365ead",
   "metadata": {},
   "outputs": [
    {
     "name": "stdout",
     "output_type": "stream",
     "text": [
      "https://data.gesdisc.earthdata.nasa.gov/data/GLDAS/GLDAS_NOAH025_M.2.1/2000/GLDAS_NOAH025_M.A200001.021.nc4\n",
      "GLDAS_NOAH025_M.A200001.021.nc4\n"
     ]
    }
   ],
   "source": [
    "print(lis[0])\n",
    "print(lis[0][76:])\n",
    "\n",
    "\n",
    "##therefore\n",
    "ALPHA = 76"
   ]
  },
  {
   "cell_type": "code",
   "execution_count": 7,
   "id": "add95631-a800-4f1f-bd27-950f4869ce7f",
   "metadata": {},
   "outputs": [
    {
     "name": "stdout",
     "output_type": "stream",
     "text": [
      "['../data/GLDAS/GLDAS_NOAH025_M.A200001.021.nc4']\n",
      "GLDAS_NOAH025_M.A200001.021.nc4\n"
     ]
    }
   ],
   "source": [
    "import glob\n",
    "x = glob.glob('../data/GLDAS/*.nc*')\n",
    "print(x)\n",
    "print(x[0][14:])\n",
    "\n",
    "##therefore\n",
    "BETA = 14"
   ]
  },
  {
   "cell_type": "code",
   "execution_count": 9,
   "id": "3b43e3e8-9fa6-4039-baf7-955dfb517bb8",
   "metadata": {},
   "outputs": [
    {
     "ename": "SystemExit",
     "evalue": "no more left to download",
     "output_type": "error",
     "traceback": [
      "An exception has occurred, use %tb to see the full traceback.\n",
      "\u001b[0;31mSystemExit\u001b[0m\u001b[0;31m:\u001b[0m no more left to download\n"
     ]
    },
    {
     "name": "stderr",
     "output_type": "stream",
     "text": [
      "/work/albertl_uri_edu/.conda/envs/f2f_2/lib/python3.10/site-packages/IPython/core/interactiveshell.py:3406: UserWarning: To exit: use 'exit', 'quit', or Ctrl-D.\n",
      "  warn(\"To exit: use 'exit', 'quit', or Ctrl-D.\", stacklevel=1)\n"
     ]
    }
   ],
   "source": [
    "\n",
    "import requests \n",
    "\n",
    "# # loads list of files to download\n",
    "# lis = np.load('nclistnodupes.npy')[:3]\n",
    "\n",
    "\n",
    "# this script obtained from NASA Earthdata's wiki\n",
    "# https://wiki.earthdata.nasa.gov/\n",
    "# please note that to run, you'll need to include your NASA Earthdata credentials\n",
    "\n",
    "class SessionWithHeaderRedirection(requests.Session):\n",
    "    AUTH_HOST = 'urs.earthdata.nasa.gov'\n",
    "\n",
    "    def __init__(self, username, password):\n",
    "        super().__init__()\n",
    "        self.auth = (username, password)\n",
    "\n",
    "    # Overrides from the library to keep headers when redirected to or from the NASA auth host.\n",
    "    def rebuild_auth(self, prepared_request, response):\n",
    "        headers = prepared_request.headers\n",
    "        url = prepared_request.url\n",
    "        if 'Authorization' in headers:\n",
    "            original_parsed = requests.utils.urlparse(response.request.url)\n",
    "            redirect_parsed = requests.utils.urlparse(url)\n",
    "            if (original_parsed.hostname != redirect_parsed.hostname) and \\\n",
    "               redirect_parsed.hostname != self.AUTH_HOST and \\\n",
    "               original_parsed.hostname != self.AUTH_HOST:\n",
    "                del headers['Authorization']\n",
    "        return\n",
    "\n",
    "\n",
    "# create session with the user credentials that will be used to authenticate access to the data\n",
    "\n",
    "username=\"albertlarson\" ###YOU THE READER OF FLUXTOFLOW NEED A NASA EARTHDATA ACCOUNT!!!\n",
    "password=\"B6RXCmSnfViTtx5\"\n",
    "session = SessionWithHeaderRedirection(username, password)\n",
    "\n",
    "\n",
    "\n",
    "# checks file folder to see if your destination folder for all these NLDAS files has any files in it, to\n",
    "# prevent your code from downloading the same files multiple times.\n",
    "destination_files = '../data/GLDAS/*.nc4'\n",
    "y = [eeks[BETA:] for eeks in glob.glob(destination_files)]\n",
    "not_dled = []\n",
    "dled = []\n",
    "for x in lis:\n",
    "    if str(x[ALPHA:]) not in y:\n",
    "        not_dled.append(x)\n",
    "    if str(x[ALPHA:])  in y:\n",
    "        dled.append(x)\n",
    "\n",
    "\n",
    "# this while loop keeps attempting to download all of the files in your list of NLDAS files until all \n",
    "# of them have been downloaded. it also presents an http message number associated with your request \n",
    "# https://developer.mozilla.org/en-US/docs/Web/HTTP/Messages\n",
    "while True:\n",
    "    for idx,i in enumerate(not_dled):\n",
    "        try:\n",
    "\n",
    "            # submit the request using the session\n",
    "            response = session.get(i, stream=True)\n",
    "            write(str(response.status_code))\n",
    "            # raise an exception in case of http errors\n",
    "            response.raise_for_status()\n",
    "            # save the file\n",
    "            with open(f'../data/GLDAS/{i[ALPHA:]}', 'wb') as fd:\n",
    "                for data in response:\n",
    "                    fd.write(data)\n",
    "            fd.close()\n",
    "        except requests.exceptions.HTTPError as e:\n",
    "            # handle any errors here\n",
    "            write(f\"error: {e}\")\n",
    "    \n",
    "    dled = []        \n",
    "    not_dled = []\n",
    "    for x in lis:\n",
    "        y = [eeks[BETA:] for eeks in glob.glob(destination_files)]\n",
    "        if str(x[ALPHA:]) not in y:\n",
    "            not_dled.append(x)\n",
    "        if str(x[ALPHA:]) in y:\n",
    "            dled.append(x)\n",
    "    write(f'dled: \\t \\n \\t')\n",
    "    for x in dled:\n",
    "        write(f\"\\t {x} \\t\")\n",
    "    write(f'not dled: \\t \\n \\t')\n",
    "    for x in not_dled:\n",
    "        write(f\"\\t {x} \\t\")\n",
    "\n",
    "            \n",
    "    if len(not_dled) == 0:\n",
    "        import sys\n",
    "        sys.exit('no more left to download')"
   ]
  },
  {
   "cell_type": "code",
   "execution_count": null,
   "id": "98afd135-b6db-472f-9447-53f83056400f",
   "metadata": {},
   "outputs": [],
   "source": []
  }
 ],
 "metadata": {
  "kernelspec": {
   "display_name": "Python (.conda-f2f_2)",
   "language": "python",
   "name": "conda-env-.conda-f2f_2-py"
  },
  "language_info": {
   "codemirror_mode": {
    "name": "ipython",
    "version": 3
   },
   "file_extension": ".py",
   "mimetype": "text/x-python",
   "name": "python",
   "nbconvert_exporter": "python",
   "pygments_lexer": "ipython3",
   "version": "3.10.4"
  }
 },
 "nbformat": 4,
 "nbformat_minor": 5
}
